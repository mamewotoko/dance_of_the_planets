{
  "nbformat": 4,
  "nbformat_minor": 5,
  "metadata": {
    "kernelspec": {
      "display_name": "Python 3",
      "language": "python",
      "name": "python3"
    },
    "language_info": {
      "codemirror_mode": {
        "name": "ipython",
        "version": 3
      },
      "file_extension": ".py",
      "mimetype": "text/x-python",
      "name": "python",
      "nbconvert_exporter": "python",
      "pygments_lexer": "ipython3",
      "version": "3.9.2"
    },
    "colab": {
      "name": "DanceOfThePlanets.ipynb",
      "provenance": []
    },
    "widgets": {
      "application/vnd.jupyter.widget-state+json": {
        "aa29a1617697408ca986646b5a80aed6": {
          "model_module": "ipycanvas",
          "model_name": "CanvasModel",
          "model_module_version": "^0.9.0",
          "state": {
            "_view_name": "CanvasView",
            "_dom_classes": [],
            "_model_name": "CanvasModel",
            "_view_module": "ipycanvas",
            "_model_module_version": "^0.9.0",
            "_view_count": null,
            "_send_client_ready_event": true,
            "width": 700,
            "_view_module_version": "^0.9.0",
            "sync_image_data": false,
            "image_data": null,
            "layout": "IPY_MODEL_16681e0d3bcf46709e2033e66b3d1aa5",
            "height": 400,
            "_model_module": "ipycanvas"
          }
        },
        "16681e0d3bcf46709e2033e66b3d1aa5": {
          "model_module": "@jupyter-widgets/base",
          "model_name": "LayoutModel",
          "model_module_version": "1.2.0",
          "state": {
            "_view_name": "LayoutView",
            "grid_template_rows": null,
            "right": null,
            "justify_content": null,
            "_view_module": "@jupyter-widgets/base",
            "overflow": null,
            "_model_module_version": "1.2.0",
            "_view_count": null,
            "flex_flow": null,
            "width": null,
            "min_width": null,
            "border": null,
            "align_items": null,
            "bottom": null,
            "_model_module": "@jupyter-widgets/base",
            "top": null,
            "grid_column": null,
            "overflow_y": null,
            "overflow_x": null,
            "grid_auto_flow": null,
            "grid_area": null,
            "grid_template_columns": null,
            "flex": null,
            "_model_name": "LayoutModel",
            "justify_items": null,
            "grid_row": null,
            "max_height": null,
            "align_content": null,
            "visibility": null,
            "align_self": null,
            "height": null,
            "min_height": null,
            "padding": null,
            "grid_auto_rows": null,
            "grid_gap": null,
            "max_width": null,
            "order": null,
            "_view_module_version": "1.2.0",
            "grid_template_areas": null,
            "object_position": null,
            "object_fit": null,
            "grid_auto_columns": null,
            "margin": null,
            "display": null,
            "left": null
          }
        }
      }
    }
  },
  "cells": [
    {
      "cell_type": "markdown",
      "metadata": {
        "id": "S-a2gM3Uewo9"
      },
      "source": [
        "[![Open In Colab](https://colab.research.google.com/assets/colab-badge.svg)](https://colab.research.google.com/github/mamewotoko/dance_of_the_planets/blob/master/ipycanvas/DanceOfThePlanets.ipynb)"
      ],
      "id": "S-a2gM3Uewo9"
    },
    {
      "cell_type": "code",
      "metadata": {
        "id": "28ee28e3",
        "outputId": "8531b96c-5c6f-4403-9b37-1dc6eab25a58",
        "colab": {
          "base_uri": "https://localhost:8080/"
        }
      },
      "source": [
        "!pip install ipycanvas"
      ],
      "id": "28ee28e3",
      "execution_count": 1,
      "outputs": [
        {
          "output_type": "stream",
          "name": "stdout",
          "text": [
            "Collecting ipycanvas\n",
            "  Downloading ipycanvas-0.9.1-py2.py3-none-any.whl (246 kB)\n",
            "\u001b[?25l\r\u001b[K     |█▎                              | 10 kB 13.0 MB/s eta 0:00:01\r\u001b[K     |██▋                             | 20 kB 10.5 MB/s eta 0:00:01\r\u001b[K     |████                            | 30 kB 8.6 MB/s eta 0:00:01\r\u001b[K     |█████▎                          | 40 kB 7.9 MB/s eta 0:00:01\r\u001b[K     |██████▋                         | 51 kB 5.0 MB/s eta 0:00:01\r\u001b[K     |████████                        | 61 kB 5.5 MB/s eta 0:00:01\r\u001b[K     |█████████▎                      | 71 kB 5.5 MB/s eta 0:00:01\r\u001b[K     |██████████▋                     | 81 kB 6.2 MB/s eta 0:00:01\r\u001b[K     |████████████                    | 92 kB 5.8 MB/s eta 0:00:01\r\u001b[K     |█████████████▎                  | 102 kB 5.2 MB/s eta 0:00:01\r\u001b[K     |██████████████▋                 | 112 kB 5.2 MB/s eta 0:00:01\r\u001b[K     |████████████████                | 122 kB 5.2 MB/s eta 0:00:01\r\u001b[K     |█████████████████▎              | 133 kB 5.2 MB/s eta 0:00:01\r\u001b[K     |██████████████████▋             | 143 kB 5.2 MB/s eta 0:00:01\r\u001b[K     |████████████████████            | 153 kB 5.2 MB/s eta 0:00:01\r\u001b[K     |█████████████████████▎          | 163 kB 5.2 MB/s eta 0:00:01\r\u001b[K     |██████████████████████▋         | 174 kB 5.2 MB/s eta 0:00:01\r\u001b[K     |████████████████████████        | 184 kB 5.2 MB/s eta 0:00:01\r\u001b[K     |█████████████████████████▎      | 194 kB 5.2 MB/s eta 0:00:01\r\u001b[K     |██████████████████████████▋     | 204 kB 5.2 MB/s eta 0:00:01\r\u001b[K     |████████████████████████████    | 215 kB 5.2 MB/s eta 0:00:01\r\u001b[K     |█████████████████████████████▎  | 225 kB 5.2 MB/s eta 0:00:01\r\u001b[K     |██████████████████████████████▋ | 235 kB 5.2 MB/s eta 0:00:01\r\u001b[K     |████████████████████████████████| 245 kB 5.2 MB/s eta 0:00:01\r\u001b[K     |████████████████████████████████| 246 kB 5.2 MB/s \n",
            "\u001b[?25hRequirement already satisfied: pillow>=6.0 in /usr/local/lib/python3.7/dist-packages (from ipycanvas) (7.1.2)\n",
            "Requirement already satisfied: numpy in /usr/local/lib/python3.7/dist-packages (from ipycanvas) (1.19.5)\n",
            "Requirement already satisfied: ipywidgets>=7.6.0 in /usr/local/lib/python3.7/dist-packages (from ipycanvas) (7.6.5)\n",
            "Requirement already satisfied: widgetsnbextension~=3.5.0 in /usr/local/lib/python3.7/dist-packages (from ipywidgets>=7.6.0->ipycanvas) (3.5.2)\n",
            "Requirement already satisfied: ipython-genutils~=0.2.0 in /usr/local/lib/python3.7/dist-packages (from ipywidgets>=7.6.0->ipycanvas) (0.2.0)\n",
            "Requirement already satisfied: nbformat>=4.2.0 in /usr/local/lib/python3.7/dist-packages (from ipywidgets>=7.6.0->ipycanvas) (5.1.3)\n",
            "Requirement already satisfied: jupyterlab-widgets>=1.0.0 in /usr/local/lib/python3.7/dist-packages (from ipywidgets>=7.6.0->ipycanvas) (1.0.2)\n",
            "Requirement already satisfied: ipykernel>=4.5.1 in /usr/local/lib/python3.7/dist-packages (from ipywidgets>=7.6.0->ipycanvas) (4.10.1)\n",
            "Requirement already satisfied: ipython>=4.0.0 in /usr/local/lib/python3.7/dist-packages (from ipywidgets>=7.6.0->ipycanvas) (5.5.0)\n",
            "Requirement already satisfied: traitlets>=4.3.1 in /usr/local/lib/python3.7/dist-packages (from ipywidgets>=7.6.0->ipycanvas) (5.1.1)\n",
            "Requirement already satisfied: jupyter-client in /usr/local/lib/python3.7/dist-packages (from ipykernel>=4.5.1->ipywidgets>=7.6.0->ipycanvas) (5.3.5)\n",
            "Requirement already satisfied: tornado>=4.0 in /usr/local/lib/python3.7/dist-packages (from ipykernel>=4.5.1->ipywidgets>=7.6.0->ipycanvas) (5.1.1)\n",
            "Requirement already satisfied: pexpect in /usr/local/lib/python3.7/dist-packages (from ipython>=4.0.0->ipywidgets>=7.6.0->ipycanvas) (4.8.0)\n",
            "Requirement already satisfied: prompt-toolkit<2.0.0,>=1.0.4 in /usr/local/lib/python3.7/dist-packages (from ipython>=4.0.0->ipywidgets>=7.6.0->ipycanvas) (1.0.18)\n",
            "Requirement already satisfied: setuptools>=18.5 in /usr/local/lib/python3.7/dist-packages (from ipython>=4.0.0->ipywidgets>=7.6.0->ipycanvas) (57.4.0)\n",
            "Requirement already satisfied: pickleshare in /usr/local/lib/python3.7/dist-packages (from ipython>=4.0.0->ipywidgets>=7.6.0->ipycanvas) (0.7.5)\n",
            "Requirement already satisfied: decorator in /usr/local/lib/python3.7/dist-packages (from ipython>=4.0.0->ipywidgets>=7.6.0->ipycanvas) (4.4.2)\n",
            "Requirement already satisfied: pygments in /usr/local/lib/python3.7/dist-packages (from ipython>=4.0.0->ipywidgets>=7.6.0->ipycanvas) (2.6.1)\n",
            "Requirement already satisfied: simplegeneric>0.8 in /usr/local/lib/python3.7/dist-packages (from ipython>=4.0.0->ipywidgets>=7.6.0->ipycanvas) (0.8.1)\n",
            "Requirement already satisfied: jupyter-core in /usr/local/lib/python3.7/dist-packages (from nbformat>=4.2.0->ipywidgets>=7.6.0->ipycanvas) (4.9.1)\n",
            "Requirement already satisfied: jsonschema!=2.5.0,>=2.4 in /usr/local/lib/python3.7/dist-packages (from nbformat>=4.2.0->ipywidgets>=7.6.0->ipycanvas) (2.6.0)\n",
            "Requirement already satisfied: six>=1.9.0 in /usr/local/lib/python3.7/dist-packages (from prompt-toolkit<2.0.0,>=1.0.4->ipython>=4.0.0->ipywidgets>=7.6.0->ipycanvas) (1.15.0)\n",
            "Requirement already satisfied: wcwidth in /usr/local/lib/python3.7/dist-packages (from prompt-toolkit<2.0.0,>=1.0.4->ipython>=4.0.0->ipywidgets>=7.6.0->ipycanvas) (0.2.5)\n",
            "Requirement already satisfied: notebook>=4.4.1 in /usr/local/lib/python3.7/dist-packages (from widgetsnbextension~=3.5.0->ipywidgets>=7.6.0->ipycanvas) (5.3.1)\n",
            "Requirement already satisfied: nbconvert in /usr/local/lib/python3.7/dist-packages (from notebook>=4.4.1->widgetsnbextension~=3.5.0->ipywidgets>=7.6.0->ipycanvas) (5.6.1)\n",
            "Requirement already satisfied: jinja2 in /usr/local/lib/python3.7/dist-packages (from notebook>=4.4.1->widgetsnbextension~=3.5.0->ipywidgets>=7.6.0->ipycanvas) (2.11.3)\n",
            "Requirement already satisfied: terminado>=0.8.1 in /usr/local/lib/python3.7/dist-packages (from notebook>=4.4.1->widgetsnbextension~=3.5.0->ipywidgets>=7.6.0->ipycanvas) (0.12.1)\n",
            "Requirement already satisfied: Send2Trash in /usr/local/lib/python3.7/dist-packages (from notebook>=4.4.1->widgetsnbextension~=3.5.0->ipywidgets>=7.6.0->ipycanvas) (1.8.0)\n",
            "Requirement already satisfied: pyzmq>=13 in /usr/local/lib/python3.7/dist-packages (from jupyter-client->ipykernel>=4.5.1->ipywidgets>=7.6.0->ipycanvas) (22.3.0)\n",
            "Requirement already satisfied: python-dateutil>=2.1 in /usr/local/lib/python3.7/dist-packages (from jupyter-client->ipykernel>=4.5.1->ipywidgets>=7.6.0->ipycanvas) (2.8.2)\n",
            "Requirement already satisfied: ptyprocess in /usr/local/lib/python3.7/dist-packages (from terminado>=0.8.1->notebook>=4.4.1->widgetsnbextension~=3.5.0->ipywidgets>=7.6.0->ipycanvas) (0.7.0)\n",
            "Requirement already satisfied: MarkupSafe>=0.23 in /usr/local/lib/python3.7/dist-packages (from jinja2->notebook>=4.4.1->widgetsnbextension~=3.5.0->ipywidgets>=7.6.0->ipycanvas) (2.0.1)\n",
            "Requirement already satisfied: entrypoints>=0.2.2 in /usr/local/lib/python3.7/dist-packages (from nbconvert->notebook>=4.4.1->widgetsnbextension~=3.5.0->ipywidgets>=7.6.0->ipycanvas) (0.3)\n",
            "Requirement already satisfied: defusedxml in /usr/local/lib/python3.7/dist-packages (from nbconvert->notebook>=4.4.1->widgetsnbextension~=3.5.0->ipywidgets>=7.6.0->ipycanvas) (0.7.1)\n",
            "Requirement already satisfied: mistune<2,>=0.8.1 in /usr/local/lib/python3.7/dist-packages (from nbconvert->notebook>=4.4.1->widgetsnbextension~=3.5.0->ipywidgets>=7.6.0->ipycanvas) (0.8.4)\n",
            "Requirement already satisfied: bleach in /usr/local/lib/python3.7/dist-packages (from nbconvert->notebook>=4.4.1->widgetsnbextension~=3.5.0->ipywidgets>=7.6.0->ipycanvas) (4.1.0)\n",
            "Requirement already satisfied: pandocfilters>=1.4.1 in /usr/local/lib/python3.7/dist-packages (from nbconvert->notebook>=4.4.1->widgetsnbextension~=3.5.0->ipywidgets>=7.6.0->ipycanvas) (1.5.0)\n",
            "Requirement already satisfied: testpath in /usr/local/lib/python3.7/dist-packages (from nbconvert->notebook>=4.4.1->widgetsnbextension~=3.5.0->ipywidgets>=7.6.0->ipycanvas) (0.5.0)\n",
            "Requirement already satisfied: webencodings in /usr/local/lib/python3.7/dist-packages (from bleach->nbconvert->notebook>=4.4.1->widgetsnbextension~=3.5.0->ipywidgets>=7.6.0->ipycanvas) (0.5.1)\n",
            "Requirement already satisfied: packaging in /usr/local/lib/python3.7/dist-packages (from bleach->nbconvert->notebook>=4.4.1->widgetsnbextension~=3.5.0->ipywidgets>=7.6.0->ipycanvas) (21.2)\n",
            "Requirement already satisfied: pyparsing<3,>=2.0.2 in /usr/local/lib/python3.7/dist-packages (from packaging->bleach->nbconvert->notebook>=4.4.1->widgetsnbextension~=3.5.0->ipywidgets>=7.6.0->ipycanvas) (2.4.7)\n",
            "Installing collected packages: ipycanvas\n",
            "Successfully installed ipycanvas-0.9.1\n"
          ]
        }
      ]
    },
    {
      "cell_type": "code",
      "metadata": {
        "id": "c8e03001"
      },
      "source": [
        "from ipycanvas import Canvas"
      ],
      "id": "c8e03001",
      "execution_count": 2,
      "outputs": []
    },
    {
      "cell_type": "code",
      "metadata": {
        "id": "0dcce76e"
      },
      "source": [
        "from enum import Enum\n",
        "import math\n",
        "\n",
        "\n",
        "black = \"#000000\"\n",
        "blue = \"#0000FF\"\n",
        "red = \"#FF0000\"\n",
        "green = \"#00FF00\"\n",
        "purple = \"#800080\"\n",
        "maroon = \"#800000\"\n",
        "dark_red = \"#8B0000\"\n",
        "navy = \"#8B0000\"\n",
        "\n",
        "orange = \"#FFA500\"\n",
        "\n",
        "\n",
        "class Planets(Enum):\n",
        "    MERCURY = 1\n",
        "    VENUS = 2\n",
        "    EARTH = 3\n",
        "    MARS = 4\n",
        "    JUPITER = 5\n",
        "    SATURN = 6\n",
        "    URANUS = 7\n",
        "    NEPTUNE = 8\n",
        "    PLUTO = 9\n",
        "\n",
        "\n",
        "year = {\n",
        "    Planets.MERCURY: 87.969,\n",
        "    Planets.VENUS: 224.701,\n",
        "    Planets.EARTH: 365.256,\n",
        "    Planets.MARS: 686.980,\n",
        "    Planets.JUPITER: 4332.6,\n",
        "    Planets.SATURN: 10759.2,\n",
        "    Planets.URANUS: 30685.0,\n",
        "    Planets.NEPTUNE: 60190.0,\n",
        "    Planets.PLUTO: 90465.0,\n",
        "}\n",
        "\n",
        "orbit = {\n",
        "    Planets.MERCURY: 57.91,\n",
        "    Planets.VENUS: 108.21,\n",
        "    Planets.EARTH: 149.60,\n",
        "    Planets.MARS: 227.92,\n",
        "    Planets.JUPITER: 778.57,\n",
        "    Planets.SATURN: 1433.5,\n",
        "    Planets.URANUS: 2872.46,\n",
        "    Planets.NEPTUNE: 4495.1,\n",
        "    Planets.PLUTO: 5869.7,\n",
        "}\n",
        "line_color = [\n",
        "    black,\n",
        "    blue,\n",
        "    red,\n",
        "    green,\n",
        "    purple,\n",
        "    maroon,\n",
        "    navy,\n",
        "    dark_red,\n",
        "    orange,\n",
        "]\n",
        "\n",
        "\n",
        "canvas_len = 400\n",
        "\n",
        "\n",
        "def main(canvas, outer_planet, inner_planet, orbits):\n",
        "    outer_planet_year = year[outer_planet]\n",
        "    inner_planet_year = year[inner_planet]\n",
        "    outer_planet_radius = orbit[outer_planet]\n",
        "    inner_planet_radius = orbit[inner_planet]\n",
        "    interval_days = outer_planet_year / 75\n",
        "    ycenter = canvas_len / 2\n",
        "    xcenter = canvas_len / 2\n",
        "    r1 = ycenter\n",
        "    r2 = r1 * inner_planet_radius / outer_planet_radius\n",
        "    r = 0.0\n",
        "    a1 = 0.0\n",
        "    a2 = 0.0\n",
        "    rstop = outer_planet_year * orbits\n",
        "    a1_interval = 2 * math.pi * interval_days / outer_planet_year\n",
        "    a2_interval = 2 * math.pi * interval_days / inner_planet_year\n",
        "    outer_planet_name = outer_planet.name\n",
        "    inner_planet_name = inner_planet.name\n",
        "\n",
        "    canvas.fill_style = blue \n",
        "    orbit_text = \"%.0f orbits\" % orbits\n",
        "    canvas.fill_text(outer_planet_name, 10, 10)\n",
        "    canvas.fill_text(inner_planet_name, 10, 30)\n",
        "    canvas.fill_text(orbit_text, 10, (canvas_len - 30))\n",
        "\n",
        "    while r < rstop:\n",
        "        i = int(r / interval_days / 75.0)\n",
        "        color = line_color[i]\n",
        "        a1 = a1 - a1_interval\n",
        "        a2 = a2 - a2_interval\n",
        "        x1 = r1 * math.cos(a1)\n",
        "        y1 = r1 * math.sin(a1)\n",
        "        x2 = r2 * math.cos(a2)\n",
        "        y2 = r2 * math.sin(a2)\n",
        "        canvas.stroke_style = color\n",
        "        canvas.stroke_line(xcenter + x1, ycenter + y1, xcenter + x2, ycenter + y2)\n",
        "        r = r + interval_days"
      ],
      "id": "0dcce76e",
      "execution_count": 3,
      "outputs": []
    },
    {
      "cell_type": "code",
      "metadata": {
        "id": "tvFgNffJkZVb"
      },
      "source": [
        "try:\n",
        "  # colab speicific setting\n",
        "  import google.colab\n",
        "  google.colab.output.enable_custom_widget_manager()\n",
        "except:\n",
        "  pass"
      ],
      "id": "tvFgNffJkZVb",
      "execution_count": 19,
      "outputs": []
    },
    {
      "cell_type": "code",
      "metadata": {
        "id": "168e55e8",
        "outputId": "0276ccac-6a13-49ef-dd45-fad80a67bd6a",
        "colab": {
          "base_uri": "https://localhost:8080/",
          "height": 421,
          "referenced_widgets": [
            "aa29a1617697408ca986646b5a80aed6",
            "16681e0d3bcf46709e2033e66b3d1aa5"
          ]
        }
      },
      "source": [
        "canvas = Canvas(height=canvas_len)\n",
        "display(canvas)\n",
        "main(canvas, Planets.EARTH, Planets.VENUS, 8.0)"
      ],
      "id": "168e55e8",
      "execution_count": 20,
      "outputs": [
        {
          "output_type": "display_data",
          "data": {
            "application/vnd.jupyter.widget-view+json": {
              "model_id": "aa29a1617697408ca986646b5a80aed6",
              "version_minor": 0,
              "version_major": 2
            },
            "text/plain": [
              "Canvas(height=400)"
            ]
          },
          "metadata": {
            "application/vnd.jupyter.widget-view+json": {
              "colab": {
                "custom_widget_manager": {
                  "url": "https://ssl.gstatic.com/colaboratory-static/widgets/colab-cdn-widget-manager/e680a8b83b2ea152/manager.min.js"
                }
              }
            }
          }
        }
      ]
    },
    {
      "cell_type": "code",
      "metadata": {
        "id": "6mnqcGHWkZFj"
      },
      "source": [
        ""
      ],
      "id": "6mnqcGHWkZFj",
      "execution_count": null,
      "outputs": []
    },
    {
      "cell_type": "code",
      "metadata": {
        "id": "hvdZUDgjkXTd"
      },
      "source": [
        ""
      ],
      "id": "hvdZUDgjkXTd",
      "execution_count": null,
      "outputs": []
    },
    {
      "cell_type": "code",
      "metadata": {
        "id": "16578440"
      },
      "source": [
        ""
      ],
      "id": "16578440",
      "execution_count": null,
      "outputs": []
    },
    {
      "cell_type": "code",
      "metadata": {
        "id": "96fbf902"
      },
      "source": [
        ""
      ],
      "id": "96fbf902",
      "execution_count": null,
      "outputs": []
    }
  ]
}