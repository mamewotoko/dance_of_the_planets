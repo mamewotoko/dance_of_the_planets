{
 "cells": [
  {
   "cell_type": "code",
   "execution_count": null,
   "id": "28ee28e3",
   "metadata": {},
   "outputs": [],
   "source": [
    "!pip install ipycanvas"
   ]
  },
  {
   "cell_type": "code",
   "execution_count": null,
   "id": "c8e03001",
   "metadata": {},
   "outputs": [],
   "source": [
    "from ipycanvas import Canvas"
   ]
  },
  {
   "cell_type": "code",
   "execution_count": null,
   "id": "0a56d61e",
   "metadata": {},
   "outputs": [],
   "source": [
    "canvas = Canvas(width=400, height=400)\n",
    "canvas"
   ]
  },
  {
   "cell_type": "code",
   "execution_count": null,
   "id": "0dcce76e",
   "metadata": {},
   "outputs": [],
   "source": [
    "from enum import Enum\n",
    "import math\n",
    "\n",
    "\n",
    "black = \"#000000\"\n",
    "blue = \"#0000FF\"\n",
    "red = \"#FF0000\"\n",
    "green = \"#00FF00\"\n",
    "purple = \"#800080\"\n",
    "maroon = \"#800000\"\n",
    "dark_red = \"#8B0000\"\n",
    "navy = \"#8B0000\"\n",
    "\n",
    "orange = \"#FFA500\"\n",
    "\n",
    "\n",
    "class Planets(Enum):\n",
    "    MERCURY = 1\n",
    "    VENUS = 2\n",
    "    EARTH = 3\n",
    "    MARS = 4\n",
    "    JUPITER = 5\n",
    "    SATURN = 6\n",
    "    URANUS = 7\n",
    "    NEPTUNE = 8\n",
    "    PLUTO = 9\n",
    "\n",
    "\n",
    "year = {\n",
    "    Planets.MERCURY: 87.969,\n",
    "    Planets.VENUS: 224.701,\n",
    "    Planets.EARTH: 365.256,\n",
    "    Planets.MARS: 686.980,\n",
    "    Planets.JUPITER: 4332.6,\n",
    "    Planets.SATURN: 10759.2,\n",
    "    Planets.URANUS: 30685.0,\n",
    "    Planets.NEPTUNE: 60190.0,\n",
    "    Planets.PLUTO: 90465.0,\n",
    "}\n",
    "\n",
    "orbit = {\n",
    "    Planets.MERCURY: 57.91,\n",
    "    Planets.VENUS: 108.21,\n",
    "    Planets.EARTH: 149.60,\n",
    "    Planets.MARS: 227.92,\n",
    "    Planets.JUPITER: 778.57,\n",
    "    Planets.SATURN: 1433.5,\n",
    "    Planets.URANUS: 2872.46,\n",
    "    Planets.NEPTUNE: 4495.1,\n",
    "    Planets.PLUTO: 5869.7,\n",
    "}\n",
    "line_color = [\n",
    "    black,\n",
    "    blue,\n",
    "    red,\n",
    "    green,\n",
    "    purple,\n",
    "    maroon,\n",
    "    navy,\n",
    "    dark_red,\n",
    "    orange,\n",
    "]\n",
    "\n",
    "\n",
    "canvas_len = 400\n",
    "\n",
    "\n",
    "def main(canvas, outer_planet, inner_planet, orbits):\n",
    "    outer_planet_year = year[outer_planet]\n",
    "    inner_planet_year = year[inner_planet]\n",
    "    outer_planet_radius = orbit[outer_planet]\n",
    "    inner_planet_radius = orbit[inner_planet]\n",
    "    interval_days = outer_planet_year / 75\n",
    "    ycenter = canvas_len / 2\n",
    "    xcenter = canvas_len / 2\n",
    "    r1 = ycenter\n",
    "    r2 = r1 * inner_planet_radius / outer_planet_radius\n",
    "    r = 0.0\n",
    "    a1 = 0.0\n",
    "    a2 = 0.0\n",
    "    rstop = outer_planet_year * orbits\n",
    "    a1_interval = 2 * math.pi * interval_days / outer_planet_year\n",
    "    a2_interval = 2 * math.pi * interval_days / inner_planet_year\n",
    "    outer_planet_name = outer_planet.name\n",
    "    inner_planet_name = inner_planet.name\n",
    "\n",
    "    canvas.fill_style = blue \n",
    "    orbit_text = \"%.0f orbits\" % orbits\n",
    "    canvas.fill_text(outer_planet_name, 10, 10)\n",
    "    canvas.fill_text(inner_planet_name, 10, 30)\n",
    "    canvas.fill_text(orbit_text, 10, (canvas_len - 30))\n",
    "\n",
    "    while r < rstop:\n",
    "        i = int(r / interval_days / 75.0)\n",
    "        color = line_color[i]\n",
    "        a1 = a1 - a1_interval\n",
    "        a2 = a2 - a2_interval\n",
    "        x1 = r1 * math.cos(a1)\n",
    "        y1 = r1 * math.sin(a1)\n",
    "        x2 = r2 * math.cos(a2)\n",
    "        y2 = r2 * math.sin(a2)\n",
    "        canvas.stroke_style = color\n",
    "        canvas.stroke_line(xcenter + x1, ycenter + y1, xcenter + x2, ycenter + y2)\n",
    "        r = r + interval_days"
   ]
  },
  {
   "cell_type": "code",
   "execution_count": null,
   "id": "168e55e8",
   "metadata": {},
   "outputs": [],
   "source": [
    "canvas = Canvas(width=canvas_len, height=canvas_len)\n",
    "canvas"
   ]
  },
  {
   "cell_type": "code",
   "execution_count": null,
   "id": "16578440",
   "metadata": {},
   "outputs": [],
   "source": [
    "main(canvas, Planets.EARTH, Planets.VENUS, 8.0)"
   ]
  },
  {
   "cell_type": "code",
   "execution_count": null,
   "id": "96fbf902",
   "metadata": {},
   "outputs": [],
   "source": []
  }
 ],
 "metadata": {
  "kernelspec": {
   "display_name": "Python 3",
   "language": "python",
   "name": "python3"
  },
  "language_info": {
   "codemirror_mode": {
    "name": "ipython",
    "version": 3
   },
   "file_extension": ".py",
   "mimetype": "text/x-python",
   "name": "python",
   "nbconvert_exporter": "python",
   "pygments_lexer": "ipython3",
   "version": "3.9.2"
  }
 },
 "nbformat": 4,
 "nbformat_minor": 5
}
