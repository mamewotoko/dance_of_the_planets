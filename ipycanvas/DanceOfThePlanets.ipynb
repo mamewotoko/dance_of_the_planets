{
  "cells": [
    {
      "cell_type": "markdown",
      "id": "S-a2gM3Uewo9",
      "metadata": {
        "id": "S-a2gM3Uewo9"
      },
      "source": [
        "[![Open In Colab](https://colab.research.google.com/assets/colab-badge.svg)](https://colab.research.google.com/github/mamewotoko/dance_of_the_planets/blob/master/ipycanvas/DanceOfThePlanets.ipynb)"
      ]
    },
    {
      "cell_type": "code",
      "execution_count": 1,
      "id": "28ee28e3",
      "metadata": {
        "colab": {
          "base_uri": "https://localhost:8080/"
        },
        "id": "28ee28e3",
        "outputId": "8531b96c-5c6f-4403-9b37-1dc6eab25a58"
      },
      "outputs": [
        {
          "name": "stdout",
          "output_type": "stream",
          "text": [
            "\u001b[33mDEPRECATION: Configuring installation scheme with distutils config files is deprecated and will no longer work in the near future. If you are using a Homebrew or Linuxbrew Python, please see discussion at https://github.com/Homebrew/homebrew-core/issues/76621\u001b[0m\n",
            "Requirement already satisfied: ipycanvas in /usr/local/lib/python3.9/site-packages (0.10.2)\n",
            "Requirement already satisfied: numpy in /usr/local/lib/python3.9/site-packages (from ipycanvas) (1.21.2)\n",
            "Requirement already satisfied: ipywidgets>=7.6.0 in /usr/local/lib/python3.9/site-packages (from ipycanvas) (7.6.5)\n",
            "Requirement already satisfied: pillow>=6.0 in /usr/local/lib/python3.9/site-packages (from ipycanvas) (8.3.1)\n",
            "Requirement already satisfied: nbformat>=4.2.0 in /usr/local/lib/python3.9/site-packages (from ipywidgets>=7.6.0->ipycanvas) (5.1.3)\n",
            "Requirement already satisfied: ipython-genutils~=0.2.0 in /usr/local/lib/python3.9/site-packages (from ipywidgets>=7.6.0->ipycanvas) (0.2.0)\n",
            "Requirement already satisfied: ipykernel>=4.5.1 in /usr/local/lib/python3.9/site-packages (from ipywidgets>=7.6.0->ipycanvas) (6.5.0)\n",
            "Requirement already satisfied: traitlets>=4.3.1 in /usr/local/lib/python3.9/site-packages (from ipywidgets>=7.6.0->ipycanvas) (5.1.1)\n",
            "Requirement already satisfied: ipython>=4.0.0 in /usr/local/lib/python3.9/site-packages (from ipywidgets>=7.6.0->ipycanvas) (7.29.0)\n",
            "Requirement already satisfied: widgetsnbextension~=3.5.0 in /usr/local/lib/python3.9/site-packages (from ipywidgets>=7.6.0->ipycanvas) (3.5.2)\n",
            "Requirement already satisfied: jupyterlab-widgets>=1.0.0 in /usr/local/lib/python3.9/site-packages (from ipywidgets>=7.6.0->ipycanvas) (1.0.2)\n",
            "Requirement already satisfied: debugpy<2.0,>=1.0.0 in /usr/local/lib/python3.9/site-packages (from ipykernel>=4.5.1->ipywidgets>=7.6.0->ipycanvas) (1.5.1)\n",
            "Requirement already satisfied: tornado<7.0,>=4.2 in /usr/local/lib/python3.9/site-packages (from ipykernel>=4.5.1->ipywidgets>=7.6.0->ipycanvas) (6.1)\n",
            "Requirement already satisfied: jupyter-client<8.0 in /usr/local/lib/python3.9/site-packages (from ipykernel>=4.5.1->ipywidgets>=7.6.0->ipycanvas) (7.0.6)\n",
            "Requirement already satisfied: appnope in /usr/local/lib/python3.9/site-packages (from ipykernel>=4.5.1->ipywidgets>=7.6.0->ipycanvas) (0.1.2)\n",
            "Requirement already satisfied: matplotlib-inline<0.2.0,>=0.1.0 in /usr/local/lib/python3.9/site-packages (from ipykernel>=4.5.1->ipywidgets>=7.6.0->ipycanvas) (0.1.3)\n",
            "Requirement already satisfied: pygments in /usr/local/lib/python3.9/site-packages (from ipython>=4.0.0->ipywidgets>=7.6.0->ipycanvas) (2.10.0)\n",
            "Requirement already satisfied: setuptools>=18.5 in /usr/local/lib/python3.9/site-packages (from ipython>=4.0.0->ipywidgets>=7.6.0->ipycanvas) (58.5.3)\n",
            "Requirement already satisfied: pickleshare in /usr/local/lib/python3.9/site-packages (from ipython>=4.0.0->ipywidgets>=7.6.0->ipycanvas) (0.7.5)\n",
            "Requirement already satisfied: jedi>=0.16 in /usr/local/lib/python3.9/site-packages (from ipython>=4.0.0->ipywidgets>=7.6.0->ipycanvas) (0.18.1)\n",
            "Requirement already satisfied: decorator in /usr/local/lib/python3.9/site-packages (from ipython>=4.0.0->ipywidgets>=7.6.0->ipycanvas) (5.1.0)\n",
            "Requirement already satisfied: pexpect>4.3 in /usr/local/lib/python3.9/site-packages (from ipython>=4.0.0->ipywidgets>=7.6.0->ipycanvas) (4.8.0)\n",
            "Requirement already satisfied: backcall in /usr/local/lib/python3.9/site-packages (from ipython>=4.0.0->ipywidgets>=7.6.0->ipycanvas) (0.2.0)\n",
            "Requirement already satisfied: prompt-toolkit!=3.0.0,!=3.0.1,<3.1.0,>=2.0.0 in /usr/local/lib/python3.9/site-packages (from ipython>=4.0.0->ipywidgets>=7.6.0->ipycanvas) (3.0.22)\n",
            "Requirement already satisfied: jsonschema!=2.5.0,>=2.4 in /usr/local/lib/python3.9/site-packages (from nbformat>=4.2.0->ipywidgets>=7.6.0->ipycanvas) (4.2.1)\n",
            "Requirement already satisfied: jupyter-core in /usr/local/lib/python3.9/site-packages (from nbformat>=4.2.0->ipywidgets>=7.6.0->ipycanvas) (4.9.1)\n",
            "Requirement already satisfied: notebook>=4.4.1 in /usr/local/lib/python3.9/site-packages (from widgetsnbextension~=3.5.0->ipywidgets>=7.6.0->ipycanvas) (6.4.6)\n",
            "Requirement already satisfied: parso<0.9.0,>=0.8.0 in /usr/local/lib/python3.9/site-packages (from jedi>=0.16->ipython>=4.0.0->ipywidgets>=7.6.0->ipycanvas) (0.8.2)\n",
            "Requirement already satisfied: attrs>=17.4.0 in /usr/local/lib/python3.9/site-packages (from jsonschema!=2.5.0,>=2.4->nbformat>=4.2.0->ipywidgets>=7.6.0->ipycanvas) (21.2.0)\n",
            "Requirement already satisfied: pyrsistent!=0.17.0,!=0.17.1,!=0.17.2,>=0.14.0 in /usr/local/lib/python3.9/site-packages (from jsonschema!=2.5.0,>=2.4->nbformat>=4.2.0->ipywidgets>=7.6.0->ipycanvas) (0.18.0)\n",
            "Requirement already satisfied: python-dateutil>=2.1 in /usr/local/lib/python3.9/site-packages (from jupyter-client<8.0->ipykernel>=4.5.1->ipywidgets>=7.6.0->ipycanvas) (2.8.2)\n",
            "Requirement already satisfied: pyzmq>=13 in /usr/local/lib/python3.9/site-packages (from jupyter-client<8.0->ipykernel>=4.5.1->ipywidgets>=7.6.0->ipycanvas) (22.3.0)\n",
            "Requirement already satisfied: nest-asyncio>=1.5 in /usr/local/lib/python3.9/site-packages (from jupyter-client<8.0->ipykernel>=4.5.1->ipywidgets>=7.6.0->ipycanvas) (1.5.1)\n",
            "Requirement already satisfied: entrypoints in /usr/local/lib/python3.9/site-packages (from jupyter-client<8.0->ipykernel>=4.5.1->ipywidgets>=7.6.0->ipycanvas) (0.3)\n",
            "Requirement already satisfied: jinja2 in /usr/local/lib/python3.9/site-packages (from notebook>=4.4.1->widgetsnbextension~=3.5.0->ipywidgets>=7.6.0->ipycanvas) (3.0.3)\n",
            "Requirement already satisfied: prometheus-client in /usr/local/lib/python3.9/site-packages (from notebook>=4.4.1->widgetsnbextension~=3.5.0->ipywidgets>=7.6.0->ipycanvas) (0.12.0)\n",
            "Requirement already satisfied: argon2-cffi in /usr/local/lib/python3.9/site-packages (from notebook>=4.4.1->widgetsnbextension~=3.5.0->ipywidgets>=7.6.0->ipycanvas) (21.1.0)\n",
            "Requirement already satisfied: nbconvert in /usr/local/lib/python3.9/site-packages (from notebook>=4.4.1->widgetsnbextension~=3.5.0->ipywidgets>=7.6.0->ipycanvas) (6.3.0)\n",
            "Requirement already satisfied: terminado>=0.8.3 in /usr/local/lib/python3.9/site-packages (from notebook>=4.4.1->widgetsnbextension~=3.5.0->ipywidgets>=7.6.0->ipycanvas) (0.12.1)\n",
            "Requirement already satisfied: Send2Trash>=1.8.0 in /usr/local/lib/python3.9/site-packages (from notebook>=4.4.1->widgetsnbextension~=3.5.0->ipywidgets>=7.6.0->ipycanvas) (1.8.0)\n",
            "Requirement already satisfied: ptyprocess>=0.5 in /usr/local/lib/python3.9/site-packages (from pexpect>4.3->ipython>=4.0.0->ipywidgets>=7.6.0->ipycanvas) (0.7.0)\n",
            "Requirement already satisfied: wcwidth in /usr/local/lib/python3.9/site-packages (from prompt-toolkit!=3.0.0,!=3.0.1,<3.1.0,>=2.0.0->ipython>=4.0.0->ipywidgets>=7.6.0->ipycanvas) (0.2.5)\n",
            "Requirement already satisfied: six>=1.5 in /usr/local/lib/python3.9/site-packages (from python-dateutil>=2.1->jupyter-client<8.0->ipykernel>=4.5.1->ipywidgets>=7.6.0->ipycanvas) (1.16.0)\n",
            "Requirement already satisfied: cffi>=1.0.0 in /usr/local/lib/python3.9/site-packages (from argon2-cffi->notebook>=4.4.1->widgetsnbextension~=3.5.0->ipywidgets>=7.6.0->ipycanvas) (1.15.0)\n",
            "Requirement already satisfied: MarkupSafe>=2.0 in /usr/local/lib/python3.9/site-packages (from jinja2->notebook>=4.4.1->widgetsnbextension~=3.5.0->ipywidgets>=7.6.0->ipycanvas) (2.0.1)\n",
            "Requirement already satisfied: testpath in /usr/local/lib/python3.9/site-packages (from nbconvert->notebook>=4.4.1->widgetsnbextension~=3.5.0->ipywidgets>=7.6.0->ipycanvas) (0.5.0)\n",
            "Requirement already satisfied: nbclient<0.6.0,>=0.5.0 in /usr/local/lib/python3.9/site-packages (from nbconvert->notebook>=4.4.1->widgetsnbextension~=3.5.0->ipywidgets>=7.6.0->ipycanvas) (0.5.9)\n",
            "Requirement already satisfied: bleach in /usr/local/lib/python3.9/site-packages (from nbconvert->notebook>=4.4.1->widgetsnbextension~=3.5.0->ipywidgets>=7.6.0->ipycanvas) (4.1.0)\n",
            "Requirement already satisfied: defusedxml in /usr/local/lib/python3.9/site-packages (from nbconvert->notebook>=4.4.1->widgetsnbextension~=3.5.0->ipywidgets>=7.6.0->ipycanvas) (0.7.1)\n",
            "Requirement already satisfied: jupyterlab-pygments in /usr/local/lib/python3.9/site-packages (from nbconvert->notebook>=4.4.1->widgetsnbextension~=3.5.0->ipywidgets>=7.6.0->ipycanvas) (0.1.2)\n",
            "Requirement already satisfied: mistune<2,>=0.8.1 in /usr/local/lib/python3.9/site-packages (from nbconvert->notebook>=4.4.1->widgetsnbextension~=3.5.0->ipywidgets>=7.6.0->ipycanvas) (0.8.4)\n",
            "Requirement already satisfied: pandocfilters>=1.4.1 in /usr/local/lib/python3.9/site-packages (from nbconvert->notebook>=4.4.1->widgetsnbextension~=3.5.0->ipywidgets>=7.6.0->ipycanvas) (1.5.0)\n",
            "Requirement already satisfied: pycparser in /usr/local/lib/python3.9/site-packages (from cffi>=1.0.0->argon2-cffi->notebook>=4.4.1->widgetsnbextension~=3.5.0->ipywidgets>=7.6.0->ipycanvas) (2.21)\n",
            "Requirement already satisfied: packaging in /usr/local/lib/python3.9/site-packages (from bleach->nbconvert->notebook>=4.4.1->widgetsnbextension~=3.5.0->ipywidgets>=7.6.0->ipycanvas) (21.0)\n",
            "Requirement already satisfied: webencodings in /usr/local/lib/python3.9/site-packages (from bleach->nbconvert->notebook>=4.4.1->widgetsnbextension~=3.5.0->ipywidgets>=7.6.0->ipycanvas) (0.5.1)\n",
            "Requirement already satisfied: pyparsing>=2.0.2 in /usr/local/lib/python3.9/site-packages (from packaging->bleach->nbconvert->notebook>=4.4.1->widgetsnbextension~=3.5.0->ipywidgets>=7.6.0->ipycanvas) (2.4.7)\n",
            "\u001b[33mDEPRECATION: Configuring installation scheme with distutils config files is deprecated and will no longer work in the near future. If you are using a Homebrew or Linuxbrew Python, please see discussion at https://github.com/Homebrew/homebrew-core/issues/76621\u001b[0m\n"
          ]
        }
      ],
      "source": [
        "!pip3 install ipycanvas"
      ]
    },
    {
      "cell_type": "code",
      "execution_count": 2,
      "id": "c8e03001",
      "metadata": {
        "id": "c8e03001"
      },
      "outputs": [],
      "source": [
        "from ipycanvas import Canvas"
      ]
    },
    {
      "cell_type": "code",
      "execution_count": 3,
      "id": "0dcce76e",
      "metadata": {
        "id": "0dcce76e"
      },
      "outputs": [],
      "source": [
        "from enum import Enum\n",
        "import math\n",
        "\n",
        "\n",
        "black = \"#000000\"\n",
        "blue = \"#0000FF\"\n",
        "red = \"#FF0000\"\n",
        "green = \"#00FF00\"\n",
        "purple = \"#800080\"\n",
        "maroon = \"#800000\"\n",
        "dark_red = \"#8B0000\"\n",
        "navy = \"#8B0000\"\n",
        "\n",
        "orange = \"#FFA500\"\n",
        "\n",
        "\n",
        "class Planets(Enum):\n",
        "    MERCURY = 1\n",
        "    VENUS = 2\n",
        "    EARTH = 3\n",
        "    MARS = 4\n",
        "    JUPITER = 5\n",
        "    SATURN = 6\n",
        "    URANUS = 7\n",
        "    NEPTUNE = 8\n",
        "    PLUTO = 9\n",
        "\n",
        "\n",
        "year = {\n",
        "    Planets.MERCURY: 87.969,\n",
        "    Planets.VENUS: 224.701,\n",
        "    Planets.EARTH: 365.256,\n",
        "    Planets.MARS: 686.980,\n",
        "    Planets.JUPITER: 4332.6,\n",
        "    Planets.SATURN: 10759.2,\n",
        "    Planets.URANUS: 30685.0,\n",
        "    Planets.NEPTUNE: 60190.0,\n",
        "    Planets.PLUTO: 90465.0,\n",
        "}\n",
        "\n",
        "orbit = {\n",
        "    Planets.MERCURY: 57.91,\n",
        "    Planets.VENUS: 108.21,\n",
        "    Planets.EARTH: 149.60,\n",
        "    Planets.MARS: 227.92,\n",
        "    Planets.JUPITER: 778.57,\n",
        "    Planets.SATURN: 1433.5,\n",
        "    Planets.URANUS: 2872.46,\n",
        "    Planets.NEPTUNE: 4495.1,\n",
        "    Planets.PLUTO: 5869.7,\n",
        "}\n",
        "line_color = [\n",
        "    black,\n",
        "    blue,\n",
        "    red,\n",
        "    green,\n",
        "    purple,\n",
        "    maroon,\n",
        "    navy,\n",
        "    dark_red,\n",
        "    orange,\n",
        "]\n",
        "\n",
        "\n",
        "canvas_len = 400\n",
        "\n",
        "\n",
        "def main(canvas, outer_planet, inner_planet, orbits):\n",
        "    outer_planet_year = year[outer_planet]\n",
        "    inner_planet_year = year[inner_planet]\n",
        "    outer_planet_radius = orbit[outer_planet]\n",
        "    inner_planet_radius = orbit[inner_planet]\n",
        "    interval_days = outer_planet_year / 75\n",
        "    ycenter = canvas_len / 2\n",
        "    xcenter = canvas_len / 2\n",
        "    r1 = ycenter\n",
        "    r2 = r1 * inner_planet_radius / outer_planet_radius\n",
        "    r = 0.0\n",
        "    a1 = 0.0\n",
        "    a2 = 0.0\n",
        "    rstop = outer_planet_year * orbits\n",
        "    a1_interval = 2 * math.pi * interval_days / outer_planet_year\n",
        "    a2_interval = 2 * math.pi * interval_days / inner_planet_year\n",
        "    outer_planet_name = outer_planet.name\n",
        "    inner_planet_name = inner_planet.name\n",
        "\n",
        "    canvas.fill_style = blue \n",
        "    orbit_text = \"%.0f orbits\" % orbits\n",
        "    canvas.fill_text(outer_planet_name, 10, 10)\n",
        "    canvas.fill_text(inner_planet_name, 10, 30)\n",
        "    canvas.fill_text(orbit_text, 10, (canvas_len - 30))\n",
        "\n",
        "    while r < rstop:\n",
        "        i = int(r / interval_days / 75.0)\n",
        "        color = line_color[i]\n",
        "        a1 = a1 - a1_interval\n",
        "        a2 = a2 - a2_interval\n",
        "        x1 = r1 * math.cos(a1)\n",
        "        y1 = r1 * math.sin(a1)\n",
        "        x2 = r2 * math.cos(a2)\n",
        "        y2 = r2 * math.sin(a2)\n",
        "        canvas.stroke_style = color\n",
        "        canvas.stroke_line(xcenter + x1, ycenter + y1, xcenter + x2, ycenter + y2)\n",
        "        r = r + interval_days"
      ]
    },
    {
      "cell_type": "code",
      "execution_count": 7,
      "id": "tvFgNffJkZVb",
      "metadata": {
        "id": "tvFgNffJkZVb"
      },
      "outputs": [],
      "source": [
        "try:\n",
        "  # colab speicific setting\n",
        "  import google.colab\n",
        "  google.colab.output.enable_custom_widget_manager()\n",
        "except:\n",
        "  pass"
      ]
    },
    {
      "cell_type": "code",
      "execution_count": 10,
      "id": "168e55e8",
      "metadata": {
        "colab": {
          "base_uri": "https://localhost:8080/",
          "height": 421,
          "referenced_widgets": [
            "aa29a1617697408ca986646b5a80aed6",
            "16681e0d3bcf46709e2033e66b3d1aa5"
          ]
        },
        "id": "168e55e8",
        "outputId": "0276ccac-6a13-49ef-dd45-fad80a67bd6a"
      },
      "outputs": [
        {
          "data": {
            "application/vnd.jupyter.widget-view+json": {
              "model_id": "db969821fe2f449aa8a4592188147d2e",
              "version_major": 2,
              "version_minor": 0
            },
            "text/plain": [
              "Canvas(height=400)"
            ]
          },
          "metadata": {},
          "output_type": "display_data"
        }
      ],
      "source": [
        "canvas = Canvas(height=canvas_len)\n",
        "display(canvas)\n",
        "main(canvas, Planets.EARTH, Planets.VENUS, 8.0)"
      ]
    },
    {
      "cell_type": "code",
      "execution_count": null,
      "id": "6fc8d853",
      "metadata": {},
      "outputs": [],
      "source": []
    }
  ],
  "metadata": {
    "colab": {
      "name": "DanceOfThePlanets.ipynb",
      "provenance": []
    },
    "kernelspec": {
      "display_name": "Python 3",
      "language": "python",
      "name": "python3"
    },
    "language_info": {
      "codemirror_mode": {
        "name": "ipython",
        "version": 3
      },
      "file_extension": ".py",
      "mimetype": "text/x-python",
      "name": "python",
      "nbconvert_exporter": "python",
      "pygments_lexer": "ipython3",
      "version": "3.9.8"
    },
    "widgets": {
      "application/vnd.jupyter.widget-state+json": {
        "16681e0d3bcf46709e2033e66b3d1aa5": {
          "model_module": "@jupyter-widgets/base",
          "model_module_version": "1.2.0",
          "model_name": "LayoutModel",
          "state": {
            "_model_module": "@jupyter-widgets/base",
            "_model_module_version": "1.2.0",
            "_model_name": "LayoutModel",
            "_view_count": null,
            "_view_module": "@jupyter-widgets/base",
            "_view_module_version": "1.2.0",
            "_view_name": "LayoutView",
            "align_content": null,
            "align_items": null,
            "align_self": null,
            "border": null,
            "bottom": null,
            "display": null,
            "flex": null,
            "flex_flow": null,
            "grid_area": null,
            "grid_auto_columns": null,
            "grid_auto_flow": null,
            "grid_auto_rows": null,
            "grid_column": null,
            "grid_gap": null,
            "grid_row": null,
            "grid_template_areas": null,
            "grid_template_columns": null,
            "grid_template_rows": null,
            "height": null,
            "justify_content": null,
            "justify_items": null,
            "left": null,
            "margin": null,
            "max_height": null,
            "max_width": null,
            "min_height": null,
            "min_width": null,
            "object_fit": null,
            "object_position": null,
            "order": null,
            "overflow": null,
            "overflow_x": null,
            "overflow_y": null,
            "padding": null,
            "right": null,
            "top": null,
            "visibility": null,
            "width": null
          }
        },
        "aa29a1617697408ca986646b5a80aed6": {
          "model_module": "ipycanvas",
          "model_module_version": "^0.9.0",
          "model_name": "CanvasModel",
          "state": {
            "_dom_classes": [],
            "_model_module": "ipycanvas",
            "_model_module_version": "^0.9.0",
            "_model_name": "CanvasModel",
            "_send_client_ready_event": true,
            "_view_count": null,
            "_view_module": "ipycanvas",
            "_view_module_version": "^0.9.0",
            "_view_name": "CanvasView",
            "height": 400,
            "image_data": null,
            "layout": "IPY_MODEL_16681e0d3bcf46709e2033e66b3d1aa5",
            "sync_image_data": false,
            "width": 700
          }
        }
      }
    }
  },
  "nbformat": 4,
  "nbformat_minor": 5
}
